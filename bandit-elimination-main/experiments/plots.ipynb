{
 "cells": [
  {
   "cell_type": "code",
   "execution_count": 2,
   "metadata": {},
   "outputs": [],
   "source": [
    "import numpy as np\n",
    "import matplotlib.pyplot as plt\n",
    "import ast\n",
    "from io import StringIO"
   ]
  },
  {
   "cell_type": "markdown",
   "metadata": {},
   "source": [
    "## Read files from Julia"
   ]
  },
  {
   "cell_type": "code",
   "execution_count": 11,
   "metadata": {
    "scrolled": true
   },
   "outputs": [
    {
     "name": "stdout",
     "output_type": "stream",
     "text": [
      "[array([1.000e+00, 1.000e+00, 1.000e+00, ..., 5.200e+01, 1.902e+03,\n",
      "       4.600e+01]), array([1., 1., 1., ..., 1., 1., 1.])]\n",
      "[array([1.000e+00, 1.000e+00, 1.000e+00, ..., 8.100e+01, 1.872e+03,\n",
      "       4.700e+01]), array([1., 3., 3., ..., 1., 1., 1.])]\n",
      "[array([1.000e+00, 1.000e+00, 1.000e+00, ..., 1.220e+02, 1.761e+03,\n",
      "       1.170e+02]), array([1., 1., 1., ..., 1., 1., 1.])]\n",
      "[array([1.00e+00, 1.00e+00, 1.00e+00, ..., 4.30e+01, 1.92e+03, 3.70e+01]), array([1., 3., 3., ..., 1., 1., 1.])]\n",
      "[array([1.000e+00, 1.000e+00, 1.000e+00, ..., 2.790e+02, 1.446e+03,\n",
      "       2.750e+02]), array([1., 1., 1., ..., 1., 1., 1.])]\n",
      "[array([1.000e+00, 1.000e+00, 1.000e+00, ..., 2.780e+02, 1.449e+03,\n",
      "       2.730e+02]), array([1., 3., 3., ..., 1., 1., 1.])]\n",
      "[array([1.000e+00, 1.000e+00, 1.000e+00, ..., 9.300e+01, 1.839e+03,\n",
      "       6.800e+01]), array([1., 2., 3., ..., 1., 1., 1.])]\n",
      "[array([1.000e+00, 1.000e+00, 1.000e+00, ..., 4.980e+02, 1.009e+03,\n",
      "       4.930e+02]), array([1., 3., 3., ..., 1., 1., 1.])]\n",
      "[array([1.000e+00, 1.000e+00, 1.000e+00, ..., 4.400e+01, 1.926e+03,\n",
      "       3.000e+01]), array([1., 1., 1., ..., 1., 1., 1.])]\n",
      "[array([1.00e+00, 1.00e+00, 1.00e+00, ..., 2.39e+02, 1.53e+03, 2.31e+02]), array([1., 1., 1., ..., 1., 1., 1.])]\n",
      "[array([1.00e+00, 1.00e+00, 1.00e+00, ..., 4.60e+01, 1.92e+03, 3.40e+01]), array([1., 1., 1., ..., 3., 3., 3.])]\n",
      "[array([1.000e+00, 1.000e+00, 1.000e+00, ..., 5.200e+01, 1.917e+03,\n",
      "       3.100e+01]), array([1., 1., 1., ..., 1., 1., 1.])]\n",
      "[array([1.000e+00, 1.000e+00, 1.000e+00, ..., 1.450e+02, 1.713e+03,\n",
      "       1.420e+02]), array([1., 3., 3., ..., 1., 1., 1.])]\n",
      "[array([1.000e+00, 1.000e+00, 1.000e+00, ..., 4.600e+01, 1.914e+03,\n",
      "       4.000e+01]), array([1., 1., 1., ..., 1., 1., 1.])]\n",
      "[array([1.000e+00, 1.000e+00, 1.000e+00, ..., 4.700e+01, 1.915e+03,\n",
      "       3.800e+01]), array([1., 3., 3., ..., 1., 1., 1.])]\n",
      "[array([1.000e+00, 1.000e+00, 1.000e+00, ..., 5.800e+01, 1.909e+03,\n",
      "       3.300e+01]), array([1., 1., 1., ..., 1., 1., 1.])]\n",
      "[array([1.000e+00, 1.000e+00, 1.000e+00, ..., 8.600e+01, 1.835e+03,\n",
      "       7.900e+01]), array([1., 3., 3., ..., 1., 1., 1.])]\n",
      "[array([1.000e+00, 1.000e+00, 1.000e+00, ..., 6.900e+01, 1.869e+03,\n",
      "       6.200e+01]), array([1., 1., 1., ..., 1., 1., 1.])]\n",
      "[array([1.000e+00, 1.000e+00, 1.000e+00, ..., 5.700e+01, 1.921e+03,\n",
      "       2.200e+01]), array([1., 3., 3., ..., 1., 1., 1.])]\n",
      "[array([1.000e+00, 1.000e+00, 1.000e+00, ..., 5.500e+01, 1.913e+03,\n",
      "       3.200e+01]), array([1., 3., 3., ..., 1., 1., 1.])]\n",
      "[array([1.000e+00, 1.000e+00, 1.000e+00, ..., 7.900e+01, 1.867e+03,\n",
      "       5.400e+01]), array([1., 2., 3., ..., 1., 1., 1.])]\n",
      "[array([1.000e+00, 1.000e+00, 1.000e+00, ..., 8.400e+01, 1.846e+03,\n",
      "       7.000e+01]), array([1., 1., 1., ..., 1., 1., 1.])]\n",
      "[array([1.00e+00, 1.00e+00, 1.00e+00, ..., 4.00e+01, 1.93e+03, 3.00e+01]), array([1., 3., 3., ..., 1., 1., 1.])]\n",
      "[array([1.000e+00, 1.000e+00, 1.000e+00, ..., 1.400e+02, 1.723e+03,\n",
      "       1.370e+02]), array([1., 1., 1., ..., 1., 1., 1.])]\n",
      "[array([1.000e+00, 1.000e+00, 1.000e+00, ..., 4.200e+01, 1.931e+03,\n",
      "       2.700e+01]), array([1., 1., 1., ..., 1., 1., 1.])]\n",
      "[array([1.000e+00, 1.000e+00, 1.000e+00, ..., 2.280e+02, 1.547e+03,\n",
      "       2.250e+02]), array([1., 1., 1., ..., 1., 1., 1.])]\n",
      "[array([1.000e+00, 1.000e+00, 1.000e+00, ..., 1.150e+02, 1.775e+03,\n",
      "       1.100e+02]), array([1., 3., 3., ..., 3., 3., 3.])]\n",
      "[array([1.000e+00, 1.000e+00, 1.000e+00, ..., 7.000e+01, 1.878e+03,\n",
      "       5.200e+01]), array([1., 1., 1., ..., 1., 1., 1.])]\n",
      "[array([1.000e+00, 1.000e+00, 1.000e+00, ..., 5.100e+01, 1.921e+03,\n",
      "       2.800e+01]), array([1., 1., 1., ..., 1., 1., 1.])]\n",
      "[array([1.000e+00, 1.000e+00, 1.000e+00, ..., 6.600e+01, 1.886e+03,\n",
      "       4.800e+01]), array([1., 1., 1., ..., 1., 1., 1.])]\n"
     ]
    }
   ],
   "source": [
    "arrays = []\n",
    "\n",
    "with open('results_c.txt', 'r') as f:\n",
    "    content = f.read().split('\t')  # Assuming that tuples are separated by 4 spaces\n",
    "    for item in content:\n",
    "        #print(item)\n",
    "        tuple_data = ast.literal_eval(item)\n",
    "        arrays.append([np.array(list_data) for list_data in tuple_data])\n",
    "\n",
    "# Now arrays is a list of pairs of NumPy arrays\n",
    "for array_pair in arrays:\n",
    "    print(array_pair)"
   ]
  },
  {
   "cell_type": "markdown",
   "metadata": {},
   "source": [
    "## Process arm recommendation probabilities data"
   ]
  },
  {
   "cell_type": "code",
   "execution_count": 15,
   "metadata": {},
   "outputs": [],
   "source": [
    "# get the shape for All_N\n",
    "arr = arrays[i]\n",
    "All_N = np.array(arr[0])\n",
    "All_N = All_N.reshape(-1, 3)\n",
    "n_iters = All_N.shape[0]\n",
    "\n",
    "All_N_arr = np.zeros([len(arrays), n_iters, 3])\n",
    "recs = np.ones([len(arrays), n_iters+1])\n",
    "\n",
    "for i in range(len(arrays)):\n",
    "    arr = arrays[i]\n",
    "    All_N = np.array(arr[0])\n",
    "    recs_item = np.array(arr[1])\n",
    "    recs[i,0:(len(recs_item)-1)] = recs_item[1:]\n",
    "    All_N = All_N.reshape(-1, 3)    \n",
    "    All_N_arr[i] = All_N"
   ]
  },
  {
   "cell_type": "code",
   "execution_count": 16,
   "metadata": {},
   "outputs": [],
   "source": [
    "# See one iteration, TODO: change it to average \n",
    "All_N = All_N_arr[0]"
   ]
  },
  {
   "cell_type": "code",
   "execution_count": 17,
   "metadata": {},
   "outputs": [
    {
     "data": {
      "text/plain": [
       "(1998, 3)"
      ]
     },
     "execution_count": 17,
     "metadata": {},
     "output_type": "execute_result"
    }
   ],
   "source": [
    "All_N.shape"
   ]
  },
  {
   "cell_type": "code",
   "execution_count": 18,
   "metadata": {},
   "outputs": [],
   "source": [
    "sum_pulls = np.sum(All_N, axis=1)"
   ]
  },
  {
   "cell_type": "code",
   "execution_count": 19,
   "metadata": {},
   "outputs": [],
   "source": [
    "prob1 = All_N[:,0]/sum_pulls\n",
    "prob2 = All_N[:,1]/sum_pulls\n",
    "prob3 = All_N[:,2]/sum_pulls"
   ]
  },
  {
   "cell_type": "markdown",
   "metadata": {},
   "source": [
    "## Plot the results"
   ]
  },
  {
   "cell_type": "code",
   "execution_count": 20,
   "metadata": {
    "scrolled": false
   },
   "outputs": [
    {
     "data": {
      "image/png": "[encoded data removed]",
      "text/plain": [
       "<Figure size 432x288 with 1 Axes>"
      ]
     },
     "metadata": {
      "needs_background": "light"
     },
     "output_type": "display_data"
    }
   ],
   "source": [
    "plt.plot(prob1, label=\"prob of arm 1\")\n",
    "plt.plot(prob2, label=\"prob of arm 2\")\n",
    "plt.plot(prob3, label=\"prob of arm 3\")\n",
    "plt.xlabel(\"iterations\")\n",
    "plt.ylabel(\"probability\")\n",
    "plt.legend()\n",
    "plt.show()"
   ]
  },
  {
   "cell_type": "code",
   "execution_count": 21,
   "metadata": {},
   "outputs": [
    {
     "data": {
      "text/plain": [
       "array([[1., 1., 1., ..., 1., 1., 1.],\n",
       "       [3., 3., 3., ..., 1., 1., 1.],\n",
       "       [1., 1., 1., ..., 1., 1., 1.],\n",
       "       ...,\n",
       "       [1., 1., 1., ..., 1., 1., 1.],\n",
       "       [1., 1., 2., ..., 1., 1., 1.],\n",
       "       [1., 1., 3., ..., 1., 1., 1.]])"
      ]
     },
     "execution_count": 21,
     "metadata": {},
     "output_type": "execute_result"
    }
   ],
   "source": [
    "recs"
   ]
  },
  {
   "cell_type": "code",
   "execution_count": 23,
   "metadata": {},
   "outputs": [
    {
     "data": {
      "image/png": "[encoded data removed]",
      "text/plain": [
       "<Figure size 432x288 with 1 Axes>"
      ]
     },
     "metadata": {
      "needs_background": "light"
     },
     "output_type": "display_data"
    }
   ],
   "source": [
    "idx_star = 1\n",
    "reps = len(arrays)\n",
    "xaxis = np.arange(n_iters+1)\n",
    "\n",
    "m = (recs == idx_star).mean(axis=0)\n",
    "s = (recs == idx_star).std(axis=0)/np.sqrt(reps)\n",
    "plt.plot(xaxis, m)\n",
    "plt.fill_between(xaxis, m - s, m + s, alpha=0.2)\n",
    "\n",
    "plt.xlabel('time')\n",
    "plt.ylabel('identification rate')\n",
    "plt.show()"
   ]
  }
 ],
 "metadata": {
  "kernelspec": {
   "display_name": "Python 3",
   "language": "python",
   "name": "python3"
  },
  "language_info": {
   "codemirror_mode": {
    "name": "ipython",
    "version": 3
   },
   "file_extension": ".py",
   "mimetype": "text/x-python",
   "name": "python",
   "nbconvert_exporter": "python",
   "pygments_lexer": "ipython3",
   "version": "3.8.5"
  }
 },
 "nbformat": 4,
 "nbformat_minor": 4
}
